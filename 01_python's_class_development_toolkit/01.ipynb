{
 "metadata": {
  "language_info": {
   "codemirror_mode": {
    "name": "ipython",
    "version": 3
   },
   "file_extension": ".py",
   "mimetype": "text/x-python",
   "name": "python",
   "nbconvert_exporter": "python",
   "pygments_lexer": "ipython3",
   "version": "3.8.8"
  },
  "orig_nbformat": 2,
  "kernelspec": {
   "name": "python388jvsc74a57bd0dca0ade3e726a953b501b15e8e990130d2b7799f14cfd9f4271676035ebe5511",
   "display_name": "Python 3.8.8 64-bit ('base': conda)"
  },
  "metadata": {
   "interpreter": {
    "hash": "dca0ade3e726a953b501b15e8e990130d2b7799f14cfd9f4271676035ebe5511"
   }
  }
 },
 "nbformat": 4,
 "nbformat_minor": 2,
 "cells": [
  {
   "source": [
    "## Main class\n"
   ],
   "cell_type": "markdown",
   "metadata": {}
  },
  {
   "cell_type": "code",
   "execution_count": 9,
   "metadata": {},
   "outputs": [],
   "source": [
    "class Circle(object):\n",
    "    \"An advanced circle analytic toolkit\"\n",
    "\n",
    "    def __init__(self, radius):\n",
    "        self.radius = radius\n",
    "\n",
    "    def area(self):\n",
    "        \"Perform quadrature on a shape of uniform radius\"\n",
    "        return 3.14 * self.radius ** 2.0"
   ]
  },
  {
   "source": [
    "## Using math library"
   ],
   "cell_type": "markdown",
   "metadata": {}
  },
  {
   "cell_type": "code",
   "execution_count": 20,
   "metadata": {},
   "outputs": [],
   "source": [
    "import math\n",
    "\n",
    "\n",
    "class Circle(object):\n",
    "    \"An advanced circle analytic toolkit\"\n",
    "\n",
    "    def __init__(self, radius):\n",
    "        self.radius = radius\n",
    "\n",
    "    def area(self):\n",
    "        \"Perform quadrature on a shape of uniform radius\"\n",
    "        return math.pi * self.radius ** 2.0"
   ]
  },
  {
   "source": [
    "## Class variables for share data"
   ],
   "cell_type": "markdown",
   "metadata": {}
  },
  {
   "cell_type": "code",
   "execution_count": 22,
   "metadata": {},
   "outputs": [],
   "source": [
    "import math\n",
    "\n",
    "\n",
    "class Circle(object):\n",
    "    \"An advanced circle analytic toolkit\"\n",
    "\n",
    "    VERSION = '0.1'\n",
    "\n",
    "    def __init__(self, radius):\n",
    "        self.radius = radius\n",
    "\n",
    "    def area(self):\n",
    "        \"Perform quadrature on a shape of uniform radius\"\n",
    "        return math.pi * self.radius ** 2.0"
   ]
  },
  {
   "cell_type": "code",
   "execution_count": 15,
   "metadata": {},
   "outputs": [
    {
     "output_type": "stream",
     "name": "stdout",
     "text": [
      "Circuituous version 0.1\nA circle of radius 10\nHas an area of  314.1592653589793\n"
     ]
    }
   ],
   "source": [
    "# Example 1\n",
    "print(\"Circuituous version\", Circle.VERSION)\n",
    "c = Circle(10)\n",
    "print(\"A circle of radius\", c.radius)\n",
    "print(\"Has an area of \", c.area())"
   ]
  },
  {
   "cell_type": "code",
   "execution_count": 19,
   "metadata": {},
   "outputs": [
    {
     "output_type": "stream",
     "name": "stdout",
     "text": [
      "Using Circuituous (tm) version 0.1\nThe average area of  10  random circles is  0.9505549400725097\n"
     ]
    }
   ],
   "source": [
    "# Example 2\n",
    "from random import random, seed\n",
    "\n",
    "print(\"Using Circuituous (tm) version\", Circle.VERSION)\n",
    "n = 10\n",
    "circle = [Circle(random()) for i in range(n)]\n",
    "avg = sum([c.area() for c in circle]) / n\n",
    "print(\"The average area of \", n, \" random circles is \", avg)"
   ]
  },
  {
   "source": [
    "## Perimeter function"
   ],
   "cell_type": "markdown",
   "metadata": {}
  },
  {
   "cell_type": "code",
   "execution_count": 23,
   "metadata": {},
   "outputs": [],
   "source": [
    "import math\n",
    "\n",
    "\n",
    "class Circle(object):\n",
    "    \"An advanced circle analytic toolkit\"\n",
    "\n",
    "    VERSION = '0.1'\n",
    "\n",
    "    def __init__(self, radius):\n",
    "        self.radius = radius\n",
    "\n",
    "    def area(self):\n",
    "        \"Perform quadrature on a shape of uniform radius\"\n",
    "        return math.pi * self.radius ** 2.0\n",
    "\n",
    "    def perimeter(self):\n",
    "        return 2.0 * math.pi * self.radius"
   ]
  },
  {
   "cell_type": "code",
   "execution_count": 25,
   "metadata": {},
   "outputs": [
    {
     "output_type": "stream",
     "name": "stdout",
     "text": [
      "A circlet with a radius of  0.1\nHas a perimeter of  0.6283185307179586\nand a cold area of  0.031415926535897934\nand a warm area of  0.038013271108436504\n\n\nA circlet with a radius of  0.7\nHas a perimeter of  4.39822971502571\nand a cold area of  1.5393804002589984\nand a warm area of  1.8626502843133883\n\n\nA circlet with a radius of  0.8\nHas a perimeter of  5.026548245743669\nand a cold area of  2.0106192982974678\nand a warm area of  2.4328493509399363\n\n\n"
     ]
    }
   ],
   "source": [
    "# Example 3\n",
    "cuts = [0.1, 0.7, 0.8]\n",
    "circles = [Circle(r) for r in cuts]\n",
    "for c in circles:\n",
    "    print(\"A circlet with a radius of \", c.radius)\n",
    "    print(\"Has a perimeter of \", c.perimeter())\n",
    "    print(\"and a cold area of \", c.area())\n",
    "    c.radius *= 1.1\n",
    "    print(\"and a warm area of \", c.area())\n",
    "    print(\"\\n\")"
   ]
  },
  {
   "source": [
    "## Tire class"
   ],
   "cell_type": "markdown",
   "metadata": {}
  },
  {
   "cell_type": "code",
   "execution_count": 37,
   "metadata": {},
   "outputs": [],
   "source": [
    "class Tire(Circle):\n",
    "    \"Tires are circles with a corrected perimeter\"\n",
    "\n",
    "    def perimeter(self):\n",
    "        \"Circumference corrected for the rubber\"\n",
    "        return Circle.perimeter(self) * 1.25"
   ]
  },
  {
   "cell_type": "code",
   "execution_count": 28,
   "metadata": {},
   "outputs": [
    {
     "output_type": "stream",
     "name": "stdout",
     "text": [
      "A tire of radius  22  has an inner area of  1520.53084433746\nand an odometer corrected perimeter of  172.7875959474386\n"
     ]
    }
   ],
   "source": [
    "# Example 4\n",
    "t = Tire(22)\n",
    "print(\"A tire of radius \", t.radius, \" has an inner area of \", t.area())\n",
    "print(\"and an odometer corrected perimeter of \", t.perimeter())"
   ]
  },
  {
   "cell_type": "code",
   "execution_count": 34,
   "metadata": {},
   "outputs": [],
   "source": [
    "import math\n",
    "\n",
    "\n",
    "class Circle(object):\n",
    "    \"An advanced circle analytic toolkit\"\n",
    "\n",
    "    VERSION = '0.1'\n",
    "\n",
    "    def __init__(self, radius):\n",
    "        self.radius = radius\n",
    "\n",
    "    def area(self):\n",
    "        \"Perform quadrature on a shape of uniform radius\"\n",
    "        return math.pi * self.radius ** 2.0\n",
    "\n",
    "    def perimeter(self):\n",
    "        return 2.0 * math.pi * self.radius\n",
    "\n",
    "    @classmethod\n",
    "    def from_bbd(cls, bbd):\n",
    "        \"Construct a circle from a bounding box diagonal\"\n",
    "        radius = bbd / 2.0 / math.sqrt(2.0)\n",
    "        return Circle(radius)"
   ]
  },
  {
   "cell_type": "code",
   "execution_count": 35,
   "metadata": {},
   "outputs": [
    {
     "output_type": "stream",
     "name": "stdout",
     "text": [
      "A circle with a bbd of 25.1 has a radius of  8.874190103891172  and an area of  247.4043484610132\n"
     ]
    }
   ],
   "source": [
    "# Example 5\n",
    "bbd = 25.1\n",
    "c = Circle.from_bbd(bdd)\n",
    "print(\"A circle with a bbd of 25.1 has a radius of \", c.radius, \" and an area of \", c.area())"
   ]
  },
  {
   "cell_type": "code",
   "execution_count": 39,
   "metadata": {},
   "outputs": [],
   "source": [
    "# Instance Tire again to get from_bbd classmethod\n",
    "class Tire(Circle):\n",
    "    \"Tires are circles with a corrected perimeter\"\n",
    "\n",
    "    def perimeter(self):\n",
    "        \"Circumference corrected for the rubber\"\n",
    "        return Circle.perimeter(self) * 1.25"
   ]
  },
  {
   "cell_type": "code",
   "execution_count": 41,
   "metadata": {},
   "outputs": [
    {
     "output_type": "stream",
     "name": "stdout",
     "text": [
      "A tire of radius  15.909902576697318\nHas an inner area of  795.2156404399163\nand an odometer corrected perimeter of  99.96486610856323\n"
     ]
    }
   ],
   "source": [
    "# Example 6\n",
    "bbd = 45\n",
    "t = Tire.from_bbd(bbd)\n",
    "print(\"A tire of radius \", t.radius)\n",
    "print(\"Has an inner area of \", t.area())\n",
    "print(\"and an odometer corrected perimeter of \", t.perimeter())"
   ]
  },
  {
   "source": [
    "## Another function to Circle class"
   ],
   "cell_type": "markdown",
   "metadata": {}
  },
  {
   "cell_type": "code",
   "execution_count": 44,
   "metadata": {},
   "outputs": [],
   "source": [
    "import math\n",
    "\n",
    "\n",
    "class Circle(object):\n",
    "    \"An advanced circle analytic toolkit\"\n",
    "\n",
    "    VERSION = '0.1'\n",
    "\n",
    "    def __init__(self, radius):\n",
    "        self.radius = radius\n",
    "\n",
    "    def area(self):\n",
    "        \"Perform quadrature on a shape of uniform radius\"\n",
    "        return math.pi * self.radius ** 2.0\n",
    "\n",
    "    def perimeter(self):\n",
    "        return 2.0 * math.pi * self.radius\n",
    "\n",
    "    @classmethod\n",
    "    def from_bbd(cls, bbd):\n",
    "        \"Construct a circle from a bounding box diagonal\"\n",
    "        radius = bbd / 2.0 / math.sqrt(2.0)\n",
    "        # return Circle(radius)\n",
    "        return cls(radius)\n",
    "\n",
    "    @staticmethod\n",
    "    def angle_to_grade(angle):\n",
    "        \"Convert angle in degree to a percentage grade\"\n",
    "        return math.tan(math.radians(angle)) * 100.0\n",
    "\n",
    "\n",
    "# Instance Tire again to get angle_to_grade staticmethod\n",
    "class Tire(Circle):\n",
    "    \"Tires are circles with a corrected perimeter\"\n",
    "\n",
    "    def perimeter(self):\n",
    "        \"Circumference corrected for the rubber\"\n",
    "        return Circle.perimeter(self) * 1.25"
   ]
  },
  {
   "source": [
    "## If you are not allow to use the radius on the area function"
   ],
   "cell_type": "markdown",
   "metadata": {}
  },
  {
   "cell_type": "code",
   "execution_count": 49,
   "metadata": {},
   "outputs": [],
   "source": [
    "import math\n",
    "\n",
    "\n",
    "class Circle(object):\n",
    "    \"An advanced circle analytic toolkit\"\n",
    "\n",
    "    VERSION = '0.1'\n",
    "\n",
    "    def __init__(self, radius):\n",
    "        self.radius = radius\n",
    "\n",
    "    def area(self):\n",
    "        \"Perform quadrature on a shape of uniform radius\"\n",
    "        # return math.pi * self.radius ** 2.0\n",
    "        p = self.perimeter()\n",
    "        r = p / math.pi / 2.0\n",
    "        return math.pi * r ** 2.00\n",
    "\n",
    "    def perimeter(self):\n",
    "        return 2.0 * math.pi * self.radius\n",
    "    \n",
    "    # _perimeter = perimeter\n",
    "\n",
    "    @property\n",
    "    def radius(self):\n",
    "        \"Radius of a circle\"\n",
    "        return self.diameter / 2.0\n",
    "\n",
    "    @radius.setter\n",
    "    def radius(self, radius):\n",
    "        self.diameter = radius * 2.0\n",
    "\n",
    "    @classmethod\n",
    "    def from_bbd(cls, bbd):\n",
    "        \"Construct a circle from a bounding box diagonal\"\n",
    "        radius = bbd / 2.0 / math.sqrt(2.0)\n",
    "        # return Circle(radius)\n",
    "        return cls(radius)\n",
    "\n",
    "    @staticmethod\n",
    "    def angle_to_grade(angle):\n",
    "        \"Convert angle in degree to a percentage grade\"\n",
    "        return math.tan(math.radians(angle)) * 100.0\n",
    "\n",
    "\n",
    "# Instance Tire again to get angle_to_grade staticmethod\n",
    "class Tire(Circle):\n",
    "    \"Tires are circles with a corrected perimeter\"\n",
    "\n",
    "    def perimeter(self):\n",
    "        \"Circumference corrected for the rubber\"\n",
    "        return Circle.perimeter(self) * 1.25\n",
    "    \n",
    "    # _perimeter = perimeter"
   ]
  },
  {
   "cell_type": "code",
   "execution_count": 52,
   "metadata": {},
   "outputs": [
    {
     "output_type": "stream",
     "name": "stdout",
     "text": [
      "Using Circuituous (tm) version  0.1\n",
      " The average area of  1000000  random circles is  1.0474739698626228\n"
     ]
    }
   ],
   "source": [
    "# Example 7\n",
    "n = 1000000\n",
    "seed(8675309)\n",
    "\n",
    "print(\"Using Circuituous (tm) version \", Circle.VERSION)\n",
    "circles = [Circle(random()) for i in range(n)]\n",
    "avg = sum([c.area() for c in circles]) / n\n",
    "print(\" The average area of \", n, \" random circles is \", avg)\n"
   ]
  },
  {
   "source": [
    "## Introducing SLOTS"
   ],
   "cell_type": "markdown",
   "metadata": {}
  },
  {
   "cell_type": "code",
   "execution_count": null,
   "metadata": {},
   "outputs": [],
   "source": [
    "import math\n",
    "\n",
    "\n",
    "class Circle(object):\n",
    "    \"An advanced circle analytic toolkit\"\n",
    "\n",
    "    __slots__ = ['diameter']\n",
    "    VERSION = '0.1'\n",
    "\n",
    "    def __init__(self, radius):\n",
    "        self.radius = radius\n",
    "\n",
    "    def area(self):\n",
    "        \"Perform quadrature on a shape of uniform radius\"\n",
    "        # return math.pi * self.radius ** 2.0\n",
    "        p = self.perimeter()\n",
    "        r = p / math.pi / 2.0\n",
    "        return math.pi * r ** 2.00\n",
    "\n",
    "    def perimeter(self):\n",
    "        return 2.0 * math.pi * self.radius\n",
    "    \n",
    "    # _perimeter = perimeter\n",
    "\n",
    "    @property\n",
    "    def radius(self):\n",
    "        \"Radius of a circle\"\n",
    "        return self.diameter / 2.0\n",
    "\n",
    "    @radius.setter\n",
    "    def radius(self, radius):\n",
    "        self.diameter = radius * 2.0\n",
    "\n",
    "    @classmethod\n",
    "    def from_bbd(cls, bbd):\n",
    "        \"Construct a circle from a bounding box diagonal\"\n",
    "        radius = bbd / 2.0 / math.sqrt(2.0)\n",
    "        # return Circle(radius)\n",
    "        return cls(radius)\n",
    "\n",
    "    @staticmethod\n",
    "    def angle_to_grade(angle):\n",
    "        \"Convert angle in degree to a percentage grade\"\n",
    "        return math.tan(math.radians(angle)) * 100.0\n",
    "\n",
    "\n",
    "# Instance Tire again to get angle_to_grade staticmethod\n",
    "class Tire(Circle):\n",
    "    \"Tires are circles with a corrected perimeter\"\n",
    "\n",
    "    def perimeter(self):\n",
    "        \"Circumference corrected for the rubber\"\n",
    "        return Circle.perimeter(self) * 1.25\n",
    "    \n",
    "    # _perimeter = perimeter"
   ]
  },
  {
   "source": [
    "## SUMMARY\n",
    "#### 1. Inherit from object()\n",
    "#### 2. Instance variables: for information unique to an instance.\n",
    "#### 3. Class variables: for data shared among all instances.\n",
    "#### 4. Regular methods: need \"self\" to operate on instance data.\n",
    "#### 5. Class methods: implement alternative constructors. They need \"cls\" so they can create subclass instances as well.\n",
    "#### 6. Static methods: attach functions to classes. They don't need either \"self\" or \"cls\". Static methods improve discoverability and require context to be specified.\n",
    "#### 7. A property(): lets getter and setter methods be invoked automatically by attribute access. This allow Python classes to freely expose their instance variables.\n",
    "#### 8. The \"__slots__\": variable implements the Flyweight Design Pattern by suppressing instance dictionaries."
   ],
   "cell_type": "markdown",
   "metadata": {}
  },
  {
   "source": [
    "## Credits to: Raymond Hettinger\n",
    "- [Python's Class Development Toolkit](https://youtu.be/HTLu2DFOdTg)"
   ],
   "cell_type": "markdown",
   "metadata": {}
  },
  {
   "cell_type": "code",
   "execution_count": null,
   "metadata": {},
   "outputs": [],
   "source": []
  }
 ]
}